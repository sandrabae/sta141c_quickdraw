{
 "cells": [
  {
   "cell_type": "markdown",
   "metadata": {},
   "source": [
    "# Classification of drawings made in the game 'Quick, draw!'"
   ]
  },
  {
   "cell_type": "markdown",
   "metadata": {},
   "source": [
    "Author: Sandra Bae and Evan Dumas, June 2018 \n",
    "\n",
    "In this project I will use scikit-learn and Keras to compare different machine learning algorithms to classify drawings made in the game ['Quick, draw!'](https://quickdraw.withgoogle.com/). In this game, people are told what they should draw in less than 20 seconds, while a neural network is predicting in real-time what it sees in the drawing. Once the prediction is correct, you can't finish your drawing, which might explain the rather minimalistic style of the drawings. It's not the most fun game, but certainly a great way of collecting data for machine learning. \n",
    "\n",
    "A huge dataset has been made publically available, more information is available in this [Github repository](https://github.com/googlecreativelab/quickdraw-dataset). I have used [this data set](https://console.cloud.google.com/storage/browser/quickdraw_dataset/full/numpy_bitmap/?pli=1), which is already preprocessed to a uniform 28x28 pixel image size. Since the complete data set includes over 50 million pictures and 345 categories, I will only use a small subset of it.\n"
   ]
  },
  {
   "cell_type": "code",
   "execution_count": 1,
   "metadata": {
    "collapsed": true
   },
   "outputs": [],
   "source": [
    "# Imports\n",
    "\n",
    "import numpy as np\n",
    "import pandas as pd\n",
    "\n",
    "%matplotlib inline\n",
    "import matplotlib.pyplot as plt\n",
    "\n",
    "from sklearn.ensemble import RandomForestClassifier\n",
    "from sklearn.neighbors import KNeighborsClassifier\n",
    "from sklearn.svm import SVC, LinearSVC\n",
    "from sklearn.linear_model import SGDClassifier\n",
    "from sklearn.neural_network import MLPClassifier\n",
    "\n",
    "from sklearn.metrics import accuracy_score, confusion_matrix, roc_curve, roc_auc_score\n",
    "from sklearn.model_selection import train_test_split, GridSearchCV"
   ]
  },
  {
   "cell_type": "code",
   "execution_count": 2,
   "metadata": {},
   "outputs": [
    {
     "name": "stderr",
     "output_type": "stream",
     "text": [
      "Using TensorFlow backend.\n"
     ]
    }
   ],
   "source": [
    "import keras\n",
    "from keras.models import Sequential\n",
    "from keras.layers import Dense, Dropout, Flatten\n",
    "from keras.layers.convolutional import Conv2D, MaxPooling2D\n",
    "from keras.utils import np_utils\n",
    "from keras import backend as K\n",
    "K.set_image_dim_ordering('th')"
   ]
  },
  {
   "cell_type": "markdown",
   "metadata": {},
   "source": [
    "## Binary Classification"
   ]
  },
  {
   "cell_type": "markdown",
   "metadata": {},
   "source": [
    "I will start with only 2 classes, cat and sheep drawings. There [data](https://console.cloud.google.com/storage/browser/quickdraw_dataset/full/numpy_bitmap/?pli=1) for each class consists of around 125,000 drawings (rows) and 784 pixels (columns) per drawing."
   ]
  },
  {
   "cell_type": "code",
   "execution_count": 3,
   "metadata": {},
   "outputs": [
    {
     "name": "stdout",
     "output_type": "stream",
     "text": [
      "(123202, 784)\n",
      "(126121, 784)\n"
     ]
    }
   ],
   "source": [
    "# load the data\n",
    "cat = np.load('data/cat.npy')\n",
    "sheep = np.load('data/sheep.npy')\n",
    "\n",
    "print(cat.shape)\n",
    "print(sheep.shape)"
   ]
  },
  {
   "cell_type": "code",
   "execution_count": 4,
   "metadata": {
    "collapsed": true
   },
   "outputs": [],
   "source": [
    "# add a column with labels, 0=cat, 1=sheep\n",
    "cat = np.c_[cat, np.zeros(len(cat))]\n",
    "sheep = np.c_[sheep, np.ones(len(sheep))]"
   ]
  },
  {
   "cell_type": "markdown",
   "metadata": {},
   "source": [
    "A useful function: I wrote one to plot 28x28 pixel images from numpy arrays."
   ]
  },
  {
   "cell_type": "code",
   "execution_count": 5,
   "metadata": {
    "collapsed": true
   },
   "outputs": [],
   "source": [
    "def plot_samples(input_array, rows=4, cols=5, title=''):\n",
    "    '''\n",
    "    Function to plot 28x28 pixel drawings that are stored in a numpy array.\n",
    "    Specify how many rows and cols of pictures to display (default 4x5).  \n",
    "    If the array contains less images than subplots selected, surplus subplots remain empty.\n",
    "    '''\n",
    "    \n",
    "    fig, ax = plt.subplots(figsize=(cols,rows))\n",
    "    ax.axis('off')\n",
    "    plt.title(title)\n",
    "\n",
    "    for i in list(range(0, min(len(input_array),(rows*cols)) )):      \n",
    "        a = fig.add_subplot(rows,cols,i+1)\n",
    "        imgplot = plt.imshow(input_array[i,:784].reshape((28,28)), cmap='gray_r', interpolation='nearest')\n",
    "        plt.xticks([])\n",
    "        plt.yticks([])"
   ]
  },
  {
   "cell_type": "markdown",
   "metadata": {},
   "source": [
    "Let's take a look at some drawings. The quality and style of the drawings varies greatly, so we should expect a lower accuracy than in other tasks such as digit recognition. Also, the data set is not completely cleaned."
   ]
  },
  {
   "cell_type": "code",
   "execution_count": 7,
   "metadata": {},
   "outputs": [
    {
     "data": {
      "image/png": "[encoded data removed]",
      "text/plain": [
       "<matplotlib.figure.Figure at 0x2aafc08cf60>"
      ]
     },
     "metadata": {},
     "output_type": "display_data"
    }
   ],
   "source": [
    "plot_samples(cat, title='Sample cat drawings\\n')"
   ]
  },
  {
   "cell_type": "code",
   "execution_count": 8,
   "metadata": {
    "scrolled": true
   },
   "outputs": [
    {
     "data": {
      "image/png": "[encoded data removed]",
      "text/plain": [
       "<matplotlib.figure.Figure at 0x2aafc08c208>"
      ]
     },
     "metadata": {},
     "output_type": "display_data"
    }
   ],
   "source": [
    "plot_samples(sheep, title='Sample sheep drawings\\n')"
   ]
  },
  {
   "cell_type": "markdown",
   "metadata": {},
   "source": [
    "Create the matrices for scikit-learn (5'000 cat and sheep images each):"
   ]
  },
  {
   "cell_type": "code",
   "execution_count": 9,
   "metadata": {},
   "outputs": [],
   "source": [
    "# merge the cat and sheep arrays, and split the features (X) and labels (y). Convert to float32 to save some memory.\n",
    "X = np.concatenate((cat[:5000,:-1], sheep[:5000,:-1]), axis=0).astype('float32') # all columns but the last\n",
    "y = np.concatenate((cat[:5000,-1], sheep[:5000,-1]), axis=0).astype('float32') # the last column\n",
    "\n",
    "# train/test split (divide by 255 to obtain normalized values between 0 and 1)\n",
    "# I will use a 50:50 split, since I want to start by training the models on 5'000 samples and thus have plenty of samples to spare for testing.\n",
    "X_train, X_test, y_train, y_test = train_test_split(X/255.,y,test_size=0.5,random_state=0)"
   ]
  },
  {
   "cell_type": "markdown",
   "metadata": {},
   "source": [
    "## Random Forest"
   ]
  },
  {
   "cell_type": "markdown",
   "metadata": {},
   "source": [
    "I will first try out a simple random forest classifier using the default options (except for random_state for reproducibility and n_jobs=-1 to use multiple CPUs):"
   ]
  },
  {
   "cell_type": "code",
   "execution_count": 10,
   "metadata": {},
   "outputs": [
    {
     "name": "stdout",
     "output_type": "stream",
     "text": [
      "RandomForestClassifier(bootstrap=True, class_weight=None, criterion='gini',\n",
      "            max_depth=None, max_features='auto', max_leaf_nodes=None,\n",
      "            min_impurity_split=1e-07, min_samples_leaf=1,\n",
      "            min_samples_split=2, min_weight_fraction_leaf=0.0,\n",
      "            n_estimators=10, n_jobs=-1, oob_score=False, random_state=0,\n",
      "            verbose=0, warm_start=False)\n",
      "Random forest accuracy:  0.8672\n",
      "Wall time: 333 ms\n"
     ]
    }
   ],
   "source": [
    "%%time\n",
    "\n",
    "clf_rf = RandomForestClassifier(n_jobs=-1, random_state=0)\n",
    "clf_rf.fit(X_train, y_train)\n",
    "print(clf_rf)\n",
    "y_pred_rf = clf_rf.predict(X_test)\n",
    "acc_rf = accuracy_score(y_test, y_pred_rf)\n",
    "print ('Random forest accuracy: ',acc_rf)"
   ]
  },
  {
   "cell_type": "markdown",
   "metadata": {},
   "source": [
    "The most important argument, n_estimators (= number of trees in the forest), is set to 10 by default. Let's try some larger values, as that should increase accuracy. GridSearchCV is very useful for optimizing parameters in scikit-learn."
   ]
  },
  {
   "cell_type": "code",
   "execution_count": 11,
   "metadata": {
    "collapsed": true
   },
   "outputs": [],
   "source": [
    "parameters = {'n_estimators': [10,20,40,60,80,100,120,140,160]}"
   ]
  },
  {
   "cell_type": "code",
   "execution_count": 12,
   "metadata": {},
   "outputs": [
    {
     "name": "stdout",
     "output_type": "stream",
     "text": [
      "Wall time: 27.7 s\n"
     ]
    }
   ],
   "source": [
    "%%time\n",
    "\n",
    "clf_rf = RandomForestClassifier(n_jobs=-1, random_state=0)\n",
    "rf = GridSearchCV(clf_rf, parameters, n_jobs=-1)\n",
    "rf.fit(X_train, y_train)\n",
    "\n",
    "results = pd.DataFrame(rf.cv_results_)"
   ]
  },
  {
   "cell_type": "code",
   "execution_count": 13,
   "metadata": {},
   "outputs": [
    {
     "data": {
      "text/html": [
       "<div>\n",
       "<table border=\"1\" class=\"dataframe\">\n",
       "  <thead>\n",
       "    <tr style=\"text-align: right;\">\n",
       "      <th></th>\n",
       "      <th>mean_fit_time</th>\n",
       "      <th>mean_score_time</th>\n",
       "      <th>mean_test_score</th>\n",
       "      <th>mean_train_score</th>\n",
       "      <th>param_n_estimators</th>\n",
       "      <th>params</th>\n",
       "      <th>rank_test_score</th>\n",
       "      <th>split0_test_score</th>\n",
       "      <th>split0_train_score</th>\n",
       "      <th>split1_test_score</th>\n",
       "      <th>split1_train_score</th>\n",
       "      <th>split2_test_score</th>\n",
       "      <th>split2_train_score</th>\n",
       "      <th>std_fit_time</th>\n",
       "      <th>std_score_time</th>\n",
       "      <th>std_test_score</th>\n",
       "      <th>std_train_score</th>\n",
       "    </tr>\n",
       "  </thead>\n",
       "  <tbody>\n",
       "    <tr>\n",
       "      <th>7</th>\n",
       "      <td>4.536410</td>\n",
       "      <td>0.737712</td>\n",
       "      <td>0.9160</td>\n",
       "      <td>1.0000</td>\n",
       "      <td>140</td>\n",
       "      <td>{'n_estimators': 140}</td>\n",
       "      <td>1</td>\n",
       "      <td>0.915468</td>\n",
       "      <td>1.000000</td>\n",
       "      <td>0.914166</td>\n",
       "      <td>1.000000</td>\n",
       "      <td>0.918367</td>\n",
       "      <td>1.000000</td>\n",
       "      <td>0.519852</td>\n",
       "      <td>0.593673</td>\n",
       "      <td>0.001756</td>\n",
       "      <td>0.000000</td>\n",
       "    </tr>\n",
       "    <tr>\n",
       "      <th>6</th>\n",
       "      <td>4.179469</td>\n",
       "      <td>0.662638</td>\n",
       "      <td>0.9150</td>\n",
       "      <td>1.0000</td>\n",
       "      <td>120</td>\n",
       "      <td>{'n_estimators': 120}</td>\n",
       "      <td>2</td>\n",
       "      <td>0.912470</td>\n",
       "      <td>1.000000</td>\n",
       "      <td>0.917167</td>\n",
       "      <td>1.000000</td>\n",
       "      <td>0.915366</td>\n",
       "      <td>1.000000</td>\n",
       "      <td>0.530962</td>\n",
       "      <td>0.422203</td>\n",
       "      <td>0.001935</td>\n",
       "      <td>0.000000</td>\n",
       "    </tr>\n",
       "    <tr>\n",
       "      <th>8</th>\n",
       "      <td>4.105458</td>\n",
       "      <td>0.173790</td>\n",
       "      <td>0.9150</td>\n",
       "      <td>1.0000</td>\n",
       "      <td>160</td>\n",
       "      <td>{'n_estimators': 160}</td>\n",
       "      <td>2</td>\n",
       "      <td>0.914269</td>\n",
       "      <td>1.000000</td>\n",
       "      <td>0.914166</td>\n",
       "      <td>1.000000</td>\n",
       "      <td>0.916567</td>\n",
       "      <td>1.000000</td>\n",
       "      <td>1.566813</td>\n",
       "      <td>0.095412</td>\n",
       "      <td>0.001108</td>\n",
       "      <td>0.000000</td>\n",
       "    </tr>\n",
       "    <tr>\n",
       "      <th>5</th>\n",
       "      <td>3.339449</td>\n",
       "      <td>0.253681</td>\n",
       "      <td>0.9148</td>\n",
       "      <td>1.0000</td>\n",
       "      <td>100</td>\n",
       "      <td>{'n_estimators': 100}</td>\n",
       "      <td>4</td>\n",
       "      <td>0.913669</td>\n",
       "      <td>1.000000</td>\n",
       "      <td>0.914166</td>\n",
       "      <td>1.000000</td>\n",
       "      <td>0.916567</td>\n",
       "      <td>1.000000</td>\n",
       "      <td>0.151762</td>\n",
       "      <td>0.055651</td>\n",
       "      <td>0.001265</td>\n",
       "      <td>0.000000</td>\n",
       "    </tr>\n",
       "    <tr>\n",
       "      <th>4</th>\n",
       "      <td>2.442926</td>\n",
       "      <td>0.520429</td>\n",
       "      <td>0.9130</td>\n",
       "      <td>1.0000</td>\n",
       "      <td>80</td>\n",
       "      <td>{'n_estimators': 80}</td>\n",
       "      <td>5</td>\n",
       "      <td>0.913669</td>\n",
       "      <td>1.000000</td>\n",
       "      <td>0.910564</td>\n",
       "      <td>1.000000</td>\n",
       "      <td>0.914766</td>\n",
       "      <td>1.000000</td>\n",
       "      <td>0.249435</td>\n",
       "      <td>0.581260</td>\n",
       "      <td>0.001779</td>\n",
       "      <td>0.000000</td>\n",
       "    </tr>\n",
       "    <tr>\n",
       "      <th>3</th>\n",
       "      <td>1.799945</td>\n",
       "      <td>0.644459</td>\n",
       "      <td>0.9102</td>\n",
       "      <td>1.0000</td>\n",
       "      <td>60</td>\n",
       "      <td>{'n_estimators': 60}</td>\n",
       "      <td>6</td>\n",
       "      <td>0.908873</td>\n",
       "      <td>1.000000</td>\n",
       "      <td>0.909964</td>\n",
       "      <td>1.000000</td>\n",
       "      <td>0.911765</td>\n",
       "      <td>1.000000</td>\n",
       "      <td>0.275570</td>\n",
       "      <td>0.480345</td>\n",
       "      <td>0.001192</td>\n",
       "      <td>0.000000</td>\n",
       "    </tr>\n",
       "    <tr>\n",
       "      <th>2</th>\n",
       "      <td>1.337450</td>\n",
       "      <td>0.706503</td>\n",
       "      <td>0.9062</td>\n",
       "      <td>1.0000</td>\n",
       "      <td>40</td>\n",
       "      <td>{'n_estimators': 40}</td>\n",
       "      <td>7</td>\n",
       "      <td>0.904676</td>\n",
       "      <td>1.000000</td>\n",
       "      <td>0.906963</td>\n",
       "      <td>1.000000</td>\n",
       "      <td>0.906963</td>\n",
       "      <td>1.000000</td>\n",
       "      <td>0.280584</td>\n",
       "      <td>0.408518</td>\n",
       "      <td>0.001078</td>\n",
       "      <td>0.000000</td>\n",
       "    </tr>\n",
       "    <tr>\n",
       "      <th>1</th>\n",
       "      <td>0.536547</td>\n",
       "      <td>0.165284</td>\n",
       "      <td>0.8968</td>\n",
       "      <td>0.9999</td>\n",
       "      <td>20</td>\n",
       "      <td>{'n_estimators': 20}</td>\n",
       "      <td>8</td>\n",
       "      <td>0.895084</td>\n",
       "      <td>1.000000</td>\n",
       "      <td>0.891957</td>\n",
       "      <td>0.999700</td>\n",
       "      <td>0.903361</td>\n",
       "      <td>1.000000</td>\n",
       "      <td>0.011206</td>\n",
       "      <td>0.036068</td>\n",
       "      <td>0.004811</td>\n",
       "      <td>0.000141</td>\n",
       "    </tr>\n",
       "    <tr>\n",
       "      <th>0</th>\n",
       "      <td>0.279201</td>\n",
       "      <td>0.227662</td>\n",
       "      <td>0.8838</td>\n",
       "      <td>0.9963</td>\n",
       "      <td>10</td>\n",
       "      <td>{'n_estimators': 10}</td>\n",
       "      <td>9</td>\n",
       "      <td>0.881894</td>\n",
       "      <td>0.996098</td>\n",
       "      <td>0.873349</td>\n",
       "      <td>0.996401</td>\n",
       "      <td>0.896158</td>\n",
       "      <td>0.996401</td>\n",
       "      <td>0.040739</td>\n",
       "      <td>0.078643</td>\n",
       "      <td>0.009407</td>\n",
       "      <td>0.000142</td>\n",
       "    </tr>\n",
       "  </tbody>\n",
       "</table>\n",
       "</div>"
      ],
      "text/plain": [
       "   mean_fit_time  mean_score_time  mean_test_score  mean_train_score  \\\n",
       "7       4.536410         0.737712           0.9160            1.0000   \n",
       "6       4.179469         0.662638           0.9150            1.0000   \n",
       "8       4.105458         0.173790           0.9150            1.0000   \n",
       "5       3.339449         0.253681           0.9148            1.0000   \n",
       "4       2.442926         0.520429           0.9130            1.0000   \n",
       "3       1.799945         0.644459           0.9102            1.0000   \n",
       "2       1.337450         0.706503           0.9062            1.0000   \n",
       "1       0.536547         0.165284           0.8968            0.9999   \n",
       "0       0.279201         0.227662           0.8838            0.9963   \n",
       "\n",
       "  param_n_estimators                 params  rank_test_score  \\\n",
       "7                140  {'n_estimators': 140}                1   \n",
       "6                120  {'n_estimators': 120}                2   \n",
       "8                160  {'n_estimators': 160}                2   \n",
       "5                100  {'n_estimators': 100}                4   \n",
       "4                 80   {'n_estimators': 80}                5   \n",
       "3                 60   {'n_estimators': 60}                6   \n",
       "2                 40   {'n_estimators': 40}                7   \n",
       "1                 20   {'n_estimators': 20}                8   \n",
       "0                 10   {'n_estimators': 10}                9   \n",
       "\n",
       "   split0_test_score  split0_train_score  split1_test_score  \\\n",
       "7           0.915468            1.000000           0.914166   \n",
       "6           0.912470            1.000000           0.917167   \n",
       "8           0.914269            1.000000           0.914166   \n",
       "5           0.913669            1.000000           0.914166   \n",
       "4           0.913669            1.000000           0.910564   \n",
       "3           0.908873            1.000000           0.909964   \n",
       "2           0.904676            1.000000           0.906963   \n",
       "1           0.895084            1.000000           0.891957   \n",
       "0           0.881894            0.996098           0.873349   \n",
       "\n",
       "   split1_train_score  split2_test_score  split2_train_score  std_fit_time  \\\n",
       "7            1.000000           0.918367            1.000000      0.519852   \n",
       "6            1.000000           0.915366            1.000000      0.530962   \n",
       "8            1.000000           0.916567            1.000000      1.566813   \n",
       "5            1.000000           0.916567            1.000000      0.151762   \n",
       "4            1.000000           0.914766            1.000000      0.249435   \n",
       "3            1.000000           0.911765            1.000000      0.275570   \n",
       "2            1.000000           0.906963            1.000000      0.280584   \n",
       "1            0.999700           0.903361            1.000000      0.011206   \n",
       "0            0.996401           0.896158            0.996401      0.040739   \n",
       "\n",
       "   std_score_time  std_test_score  std_train_score  \n",
       "7        0.593673        0.001756         0.000000  \n",
       "6        0.422203        0.001935         0.000000  \n",
       "8        0.095412        0.001108         0.000000  \n",
       "5        0.055651        0.001265         0.000000  \n",
       "4        0.581260        0.001779         0.000000  \n",
       "3        0.480345        0.001192         0.000000  \n",
       "2        0.408518        0.001078         0.000000  \n",
       "1        0.036068        0.004811         0.000141  \n",
       "0        0.078643        0.009407         0.000142  "
      ]
     },
     "execution_count": 13,
     "metadata": {},
     "output_type": "execute_result"
    }
   ],
   "source": [
    "results.sort_values('mean_test_score', ascending = False)"
   ]
  },
  {
   "cell_type": "code",
   "execution_count": 14,
   "metadata": {},
   "outputs": [
    {
     "data": {
      "image/png": "[encoded data removed]",
      "text/plain": [
       "<matplotlib.figure.Figure at 0x2aa80a16f60>"
      ]
     },
     "metadata": {},
     "output_type": "display_data"
    }
   ],
   "source": [
    "results.plot('param_n_estimators','mean_test_score');"
   ]
  },
  {
   "cell_type": "markdown",
   "metadata": {},
   "source": [
    "The accuracy plateaus after about 100 trees, I will therfore use this parameter from here on."
   ]
  },
  {
   "cell_type": "markdown",
   "metadata": {},
   "source": [
    "We can visualize the model to see which pixels had the highest importance:"
   ]
  },
  {
   "cell_type": "code",
   "execution_count": 17,
   "metadata": {
    "scrolled": false
   },
   "outputs": [
    {
     "data": {
      "image/png": "[encoded data removed]",
      "text/plain": [
       "<matplotlib.figure.Figure at 0x2aaf98ee518>"
      ]
     },
     "metadata": {},
     "output_type": "display_data"
    }
   ],
   "source": [
    "importances = clf_rf.feature_importances_\n",
    "importances = importances.reshape((28,28))\n",
    "plt.matshow(importances, cmap=plt.cm.hot);\n",
    "plt.title('Pixel importances\\n');"
   ]
  },
  {
   "cell_type": "markdown",
   "metadata": {
    "collapsed": true
   },
   "source": [
    "As could be expected, corners have a very low importance, as they are mostly blank. The left, right, middle and bottom part of the picture are most important. Looking at the pictures of cats and sheeps, it seems that the middle is mostly blank in sheeps, but not in cats. So pixels there probably indicate a cat image. The other 'hot' areas are less clear to me after a quick inspection of the images."
   ]
  },
  {
   "cell_type": "markdown",
   "metadata": {},
   "source": [
    "## K-Nearest Neighbors (KNN)"
   ]
  },
  {
   "cell_type": "markdown",
   "metadata": {},
   "source": [
    "Next, I will try out a KNN classifier:"
   ]
  },
  {
   "cell_type": "code",
   "execution_count": 18,
   "metadata": {},
   "outputs": [
    {
     "name": "stdout",
     "output_type": "stream",
     "text": [
      "KNeighborsClassifier(algorithm='auto', leaf_size=30, metric='minkowski',\n",
      "           metric_params=None, n_jobs=-1, n_neighbors=5, p=2,\n",
      "           weights='uniform')\n",
      "KNN accuracy:  0.9218\n",
      "Wall time: 16 s\n"
     ]
    }
   ],
   "source": [
    "%%time \n",
    "\n",
    "clf_knn = KNeighborsClassifier(n_jobs=-1)\n",
    "clf_knn.fit(X_train, y_train)\n",
    "print(clf_knn)\n",
    "y_pred_knn = clf_knn.predict(X_test)\n",
    "acc_knn = accuracy_score(y_test, y_pred_knn)\n",
    "print ('KNN accuracy: ',acc_knn)"
   ]
  },
  {
   "cell_type": "markdown",
   "metadata": {},
   "source": [
    "The KNN classifier looks promising, let's test different values of K:"
   ]
  },
  {
   "cell_type": "code",
   "execution_count": 19,
   "metadata": {},
   "outputs": [
    {
     "name": "stdout",
     "output_type": "stream",
     "text": [
      "Wall time: 2min 50s\n"
     ]
    }
   ],
   "source": [
    "%%time\n",
    "\n",
    "parameters = {'n_neighbors': [1,3,5,7,9,11]}\n",
    "\n",
    "clf_knn = KNeighborsClassifier(n_jobs=-1)\n",
    "knn = GridSearchCV(clf_knn, parameters, n_jobs=-1)\n",
    "knn.fit(X_train, y_train)\n",
    "\n",
    "results_knn = pd.DataFrame(knn.cv_results_)"
   ]
  },
  {
   "cell_type": "code",
   "execution_count": 20,
   "metadata": {},
   "outputs": [
    {
     "data": {
      "text/html": [
       "<div>\n",
       "<table border=\"1\" class=\"dataframe\">\n",
       "  <thead>\n",
       "    <tr style=\"text-align: right;\">\n",
       "      <th></th>\n",
       "      <th>mean_fit_time</th>\n",
       "      <th>mean_score_time</th>\n",
       "      <th>mean_test_score</th>\n",
       "      <th>mean_train_score</th>\n",
       "      <th>param_n_neighbors</th>\n",
       "      <th>params</th>\n",
       "      <th>rank_test_score</th>\n",
       "      <th>split0_test_score</th>\n",
       "      <th>split0_train_score</th>\n",
       "      <th>split1_test_score</th>\n",
       "      <th>split1_train_score</th>\n",
       "      <th>split2_test_score</th>\n",
       "      <th>split2_train_score</th>\n",
       "      <th>std_fit_time</th>\n",
       "      <th>std_score_time</th>\n",
       "      <th>std_test_score</th>\n",
       "      <th>std_train_score</th>\n",
       "    </tr>\n",
       "  </thead>\n",
       "  <tbody>\n",
       "    <tr>\n",
       "      <th>2</th>\n",
       "      <td>1.090484</td>\n",
       "      <td>12.000963</td>\n",
       "      <td>0.9216</td>\n",
       "      <td>0.9444</td>\n",
       "      <td>5</td>\n",
       "      <td>{'n_neighbors': 5}</td>\n",
       "      <td>1</td>\n",
       "      <td>0.921463</td>\n",
       "      <td>0.944778</td>\n",
       "      <td>0.920768</td>\n",
       "      <td>0.943611</td>\n",
       "      <td>0.922569</td>\n",
       "      <td>0.944811</td>\n",
       "      <td>0.260144</td>\n",
       "      <td>0.537086</td>\n",
       "      <td>0.000741</td>\n",
       "      <td>0.000558</td>\n",
       "    </tr>\n",
       "    <tr>\n",
       "      <th>3</th>\n",
       "      <td>1.004534</td>\n",
       "      <td>12.362510</td>\n",
       "      <td>0.9210</td>\n",
       "      <td>0.9375</td>\n",
       "      <td>7</td>\n",
       "      <td>{'n_neighbors': 7}</td>\n",
       "      <td>2</td>\n",
       "      <td>0.917866</td>\n",
       "      <td>0.937275</td>\n",
       "      <td>0.922569</td>\n",
       "      <td>0.938812</td>\n",
       "      <td>0.922569</td>\n",
       "      <td>0.936413</td>\n",
       "      <td>0.265598</td>\n",
       "      <td>0.398817</td>\n",
       "      <td>0.002218</td>\n",
       "      <td>0.000992</td>\n",
       "    </tr>\n",
       "    <tr>\n",
       "      <th>4</th>\n",
       "      <td>1.097780</td>\n",
       "      <td>13.028088</td>\n",
       "      <td>0.9200</td>\n",
       "      <td>0.9333</td>\n",
       "      <td>9</td>\n",
       "      <td>{'n_neighbors': 9}</td>\n",
       "      <td>3</td>\n",
       "      <td>0.919664</td>\n",
       "      <td>0.931573</td>\n",
       "      <td>0.925570</td>\n",
       "      <td>0.934013</td>\n",
       "      <td>0.914766</td>\n",
       "      <td>0.934313</td>\n",
       "      <td>0.116241</td>\n",
       "      <td>0.504523</td>\n",
       "      <td>0.004416</td>\n",
       "      <td>0.001227</td>\n",
       "    </tr>\n",
       "    <tr>\n",
       "      <th>1</th>\n",
       "      <td>0.656531</td>\n",
       "      <td>11.819406</td>\n",
       "      <td>0.9188</td>\n",
       "      <td>0.9543</td>\n",
       "      <td>3</td>\n",
       "      <td>{'n_neighbors': 3}</td>\n",
       "      <td>4</td>\n",
       "      <td>0.916067</td>\n",
       "      <td>0.952881</td>\n",
       "      <td>0.919568</td>\n",
       "      <td>0.955909</td>\n",
       "      <td>0.920768</td>\n",
       "      <td>0.954109</td>\n",
       "      <td>0.053521</td>\n",
       "      <td>0.742132</td>\n",
       "      <td>0.001995</td>\n",
       "      <td>0.001243</td>\n",
       "    </tr>\n",
       "    <tr>\n",
       "      <th>5</th>\n",
       "      <td>1.447028</td>\n",
       "      <td>10.433746</td>\n",
       "      <td>0.9152</td>\n",
       "      <td>0.9277</td>\n",
       "      <td>11</td>\n",
       "      <td>{'n_neighbors': 11}</td>\n",
       "      <td>5</td>\n",
       "      <td>0.910671</td>\n",
       "      <td>0.928571</td>\n",
       "      <td>0.920768</td>\n",
       "      <td>0.928314</td>\n",
       "      <td>0.914166</td>\n",
       "      <td>0.926215</td>\n",
       "      <td>0.311654</td>\n",
       "      <td>2.412591</td>\n",
       "      <td>0.004187</td>\n",
       "      <td>0.001056</td>\n",
       "    </tr>\n",
       "    <tr>\n",
       "      <th>0</th>\n",
       "      <td>0.490201</td>\n",
       "      <td>12.068546</td>\n",
       "      <td>0.9098</td>\n",
       "      <td>1.0000</td>\n",
       "      <td>1</td>\n",
       "      <td>{'n_neighbors': 1}</td>\n",
       "      <td>6</td>\n",
       "      <td>0.911871</td>\n",
       "      <td>1.000000</td>\n",
       "      <td>0.904562</td>\n",
       "      <td>1.000000</td>\n",
       "      <td>0.912965</td>\n",
       "      <td>1.000000</td>\n",
       "      <td>0.083732</td>\n",
       "      <td>0.476223</td>\n",
       "      <td>0.003730</td>\n",
       "      <td>0.000000</td>\n",
       "    </tr>\n",
       "  </tbody>\n",
       "</table>\n",
       "</div>"
      ],
      "text/plain": [
       "   mean_fit_time  mean_score_time  mean_test_score  mean_train_score  \\\n",
       "2       1.090484        12.000963           0.9216            0.9444   \n",
       "3       1.004534        12.362510           0.9210            0.9375   \n",
       "4       1.097780        13.028088           0.9200            0.9333   \n",
       "1       0.656531        11.819406           0.9188            0.9543   \n",
       "5       1.447028        10.433746           0.9152            0.9277   \n",
       "0       0.490201        12.068546           0.9098            1.0000   \n",
       "\n",
       "  param_n_neighbors               params  rank_test_score  split0_test_score  \\\n",
       "2                 5   {'n_neighbors': 5}                1           0.921463   \n",
       "3                 7   {'n_neighbors': 7}                2           0.917866   \n",
       "4                 9   {'n_neighbors': 9}                3           0.919664   \n",
       "1                 3   {'n_neighbors': 3}                4           0.916067   \n",
       "5                11  {'n_neighbors': 11}                5           0.910671   \n",
       "0                 1   {'n_neighbors': 1}                6           0.911871   \n",
       "\n",
       "   split0_train_score  split1_test_score  split1_train_score  \\\n",
       "2            0.944778           0.920768            0.943611   \n",
       "3            0.937275           0.922569            0.938812   \n",
       "4            0.931573           0.925570            0.934013   \n",
       "1            0.952881           0.919568            0.955909   \n",
       "5            0.928571           0.920768            0.928314   \n",
       "0            1.000000           0.904562            1.000000   \n",
       "\n",
       "   split2_test_score  split2_train_score  std_fit_time  std_score_time  \\\n",
       "2           0.922569            0.944811      0.260144        0.537086   \n",
       "3           0.922569            0.936413      0.265598        0.398817   \n",
       "4           0.914766            0.934313      0.116241        0.504523   \n",
       "1           0.920768            0.954109      0.053521        0.742132   \n",
       "5           0.914166            0.926215      0.311654        2.412591   \n",
       "0           0.912965            1.000000      0.083732        0.476223   \n",
       "\n",
       "   std_test_score  std_train_score  \n",
       "2        0.000741         0.000558  \n",
       "3        0.002218         0.000992  \n",
       "4        0.004416         0.001227  \n",
       "1        0.001995         0.001243  \n",
       "5        0.004187         0.001056  \n",
       "0        0.003730         0.000000  "
      ]
     },
     "execution_count": 20,
     "metadata": {},
     "output_type": "execute_result"
    }
   ],
   "source": [
    "results_knn.sort_values('mean_test_score', ascending = False)"
   ]
  },
  {
   "cell_type": "code",
   "execution_count": 21,
   "metadata": {},
   "outputs": [
    {
     "data": {
      "image/png": "[encoded data removed]",
      "text/plain": [
       "<matplotlib.figure.Figure at 0x2aa809434e0>"
      ]
     },
     "metadata": {},
     "output_type": "display_data"
    }
   ],
   "source": [
    "results_knn.plot('param_n_neighbors','mean_test_score');"
   ]
  },
  {
   "cell_type": "markdown",
   "metadata": {},
   "source": [
    "The default option of k=5 seems to be optimal.\n",
    "The KNN classifier is quite a bit more accurate than the random forest, but it also takes much longer (particularly the classification of new examples)."
   ]
  },
  {
   "cell_type": "markdown",
   "metadata": {
    "collapsed": true
   },
   "source": [
    "## Convolutional Neural Network (CNN)"
   ]
  },
  {
   "cell_type": "markdown",
   "metadata": {},
   "source": [
    "Let's try out a Convolutional Neural Network (CNN) with Keras. I will use a model from this [tutorial](http://machinelearningmastery.com/handwritten-digit-recognition-using-convolutional-neural-networks-python-keras/) by Jason Brownlee. It has the following 9 layers:\n",
    "\n",
    "1. Convolutional layer with 30 feature maps of size 5×5. \n",
    "2. Pooling layer taking the max over 2*2 patches. \n",
    "3. Convolutional layer with 15 feature maps of size 3×3.\n",
    "4. Pooling layer taking the max over 2*2 patches.\n",
    "5. Dropout layer with a probability of 20%. \n",
    "6. Flatten layer. \n",
    "7. Fully connected layer with 128 neurons and rectifier activation. \n",
    "8. Fully connected layer with 50 neurons and rectifier activation. \n",
    "9. Output layer.\n",
    "\n",
    "Keras requires one hot encoding of the y labels:"
   ]
  },
  {
   "cell_type": "code",
   "execution_count": 29,
   "metadata": {},
   "outputs": [],
   "source": [
    "# one hot encode outputs\n",
    "y_train_cnn = np_utils.to_categorical(y_train)\n",
    "y_test_cnn = np_utils.to_categorical(y_test)\n",
    "num_classes = y_test_cnn.shape[1]"
   ]
  },
  {
   "cell_type": "markdown",
   "metadata": {},
   "source": [
    "We also need to reshape the images to the original 28x28 shape, which gives the neural net additional information compared to a 784x1 vector."
   ]
  },
  {
   "cell_type": "code",
   "execution_count": 30,
   "metadata": {
    "collapsed": true
   },
   "outputs": [],
   "source": [
    "# reshape to be [samples][pixels][width][height]\n",
    "X_train_cnn = X_train.reshape(X_train.shape[0], 1, 28, 28).astype('float32')\n",
    "X_test_cnn = X_test.reshape(X_test.shape[0], 1, 28, 28).astype('float32')"
   ]
  },
  {
   "cell_type": "code",
   "execution_count": 31,
   "metadata": {
    "collapsed": true
   },
   "outputs": [],
   "source": [
    "# define the CNN model\n",
    "def cnn_model():\n",
    "    # create model\n",
    "    model = Sequential()\n",
    "    model.add(Conv2D(30, (5, 5), input_shape=(1, 28, 28), activation='relu'))\n",
    "    model.add(MaxPooling2D(pool_size=(2, 2)))\n",
    "    model.add(Conv2D(15, (3, 3), activation='relu'))\n",
    "    model.add(MaxPooling2D(pool_size=(2, 2)))\n",
    "    model.add(Dropout(0.2))\n",
    "    model.add(Flatten())\n",
    "    model.add(Dense(128, activation='relu'))\n",
    "    model.add(Dense(50, activation='relu'))\n",
    "    model.add(Dense(num_classes, activation='softmax'))\n",
    "    # Compile model\n",
    "    model.compile(loss='categorical_crossentropy', optimizer='adam', metrics=['accuracy'])\n",
    "    return model"
   ]
  },
  {
   "cell_type": "code",
   "execution_count": 32,
   "metadata": {
    "scrolled": true
   },
   "outputs": [
    {
     "name": "stdout",
     "output_type": "stream",
     "text": [
      "Train on 5000 samples, validate on 5000 samples\n",
      "Epoch 1/10\n",
      "5000/5000 [==============================] - 24s - loss: 0.5191 - acc: 0.7712 - val_loss: 0.3483 - val_acc: 0.8426\n",
      "Epoch 2/10\n",
      "5000/5000 [==============================] - 25s - loss: 0.2810 - acc: 0.8844 - val_loss: 0.2480 - val_acc: 0.9072\n",
      "Epoch 3/10\n",
      "5000/5000 [==============================] - 23s - loss: 0.2197 - acc: 0.9134 - val_loss: 0.2020 - val_acc: 0.9208\n",
      "Epoch 4/10\n",
      "5000/5000 [==============================] - 23s - loss: 0.1790 - acc: 0.9316 - val_loss: 0.1793 - val_acc: 0.9284\n",
      "Epoch 5/10\n",
      "5000/5000 [==============================] - 23s - loss: 0.1691 - acc: 0.9372 - val_loss: 0.1802 - val_acc: 0.9302\n",
      "Epoch 6/10\n",
      "5000/5000 [==============================] - 24s - loss: 0.1547 - acc: 0.9412 - val_loss: 0.1624 - val_acc: 0.9354\n",
      "Epoch 7/10\n",
      "5000/5000 [==============================] - 24s - loss: 0.1406 - acc: 0.9472 - val_loss: 0.1522 - val_acc: 0.9398\n",
      "Epoch 8/10\n",
      "5000/5000 [==============================] - 24s - loss: 0.1267 - acc: 0.9530 - val_loss: 0.1575 - val_acc: 0.9392\n",
      "Epoch 9/10\n",
      "5000/5000 [==============================] - 24s - loss: 0.1296 - acc: 0.9490 - val_loss: 0.1507 - val_acc: 0.9408\n",
      "Epoch 10/10\n",
      "5000/5000 [==============================] - 23s - loss: 0.1159 - acc: 0.9568 - val_loss: 0.1509 - val_acc: 0.9416\n",
      "Final CNN accuracy:  0.9416\n",
      "Wall time: 4min 10s\n"
     ]
    }
   ],
   "source": [
    "%%time\n",
    "\n",
    "np.random.seed(0)\n",
    "# build the model\n",
    "model_cnn = cnn_model()\n",
    "# Fit the model\n",
    "model_cnn.fit(X_train_cnn, y_train_cnn, validation_data=(X_test_cnn, y_test_cnn), epochs=10, batch_size=200)\n",
    "# Final evaluation of the model\n",
    "scores = model_cnn.evaluate(X_test_cnn, y_test_cnn, verbose=0)\n",
    "print('Final CNN accuracy: ', scores[1])"
   ]
  },
  {
   "cell_type": "markdown",
   "metadata": {},
   "source": [
    "As expected for an image classification task, the CNN has a very high accuracy with over 94%. But it also required the longest training time."
   ]
  },
  {
   "cell_type": "markdown",
   "metadata": {
    "collapsed": true
   },
   "source": [
    "## Comparing different methods"
   ]
  },
  {
   "cell_type": "markdown",
   "metadata": {},
   "source": [
    "Next, I will compare the most promising algorithms using different numbers of training examples."
   ]
  },
  {
   "cell_type": "code",
   "execution_count": 33,
   "metadata": {},
   "outputs": [
    {
     "name": "stdout",
     "output_type": "stream",
     "text": [
      "Wall time: 34min 55s\n"
     ]
    }
   ],
   "source": [
    "%%time\n",
    "\n",
    "np.random.seed(0)\n",
    "\n",
    "N_train = [500, 2000, 5000, 10000, 15000] # the number of training examples to be used\n",
    "acc_scores = pd.DataFrame()\n",
    "\n",
    "for i in N_train:\n",
    "    # preprocessing as before with different sample sizes:\n",
    "    X = np.concatenate((cat[:i,:-1], sheep[:i,:-1]), axis=0).astype('float32') \n",
    "    y = np.concatenate((cat[:i,-1], sheep[:i,-1]), axis=0).astype('float32') \n",
    "    X_train, X_test, y_train, y_test = train_test_split(X/255.,y,test_size=0.5,random_state=0)\n",
    "    \n",
    "    # run the different scikit-learn models:\n",
    "    clf_rf = RandomForestClassifier(n_estimators=100, n_jobs=-1)\n",
    "    clf_rf.fit(X_train, y_train)\n",
    "    acc_rf = clf_rf.score(X_test,y_test)\n",
    "    acc_scores.set_value('RF', i, acc_rf)\n",
    "    \n",
    "    clf_knn = KNeighborsClassifier(n_jobs=-1)\n",
    "    clf_knn.fit(X_train, y_train)\n",
    "    acc_knn = clf_knn.score(X_test,y_test)\n",
    "    acc_scores.set_value('KNN', i, acc_knn)\n",
    "    \n",
    "    # preprocessing for keras:\n",
    "    y_train_cnn = np_utils.to_categorical(y_train)\n",
    "    y_test_cnn = np_utils.to_categorical(y_test)\n",
    "    num_classes = y_test_cnn.shape[1]\n",
    "    X_train_cnn = X_train.reshape(X_train.shape[0], 1, 28, 28).astype('float32')\n",
    "    X_test_cnn = X_test.reshape(X_test.shape[0], 1, 28, 28).astype('float32')\n",
    "    \n",
    "    # run the keras model:\n",
    "    model = cnn_model()\n",
    "    model.fit(X_train_cnn, y_train_cnn, validation_data=(X_test_cnn, y_test_cnn), epochs=10, batch_size=200, verbose=0)\n",
    "    scores = model.evaluate(X_test_cnn, y_test_cnn, verbose=0)\n",
    "    acc_scores.set_value('CNN', i, scores[1])\n",
    "    "
   ]
  },
  {
   "cell_type": "markdown",
   "metadata": {
    "collapsed": true
   },
   "source": [
    "## Multi-class Classification"
   ]
  },
  {
   "cell_type": "markdown",
   "metadata": {},
   "source": [
    "Now let's make the classification a bit more difficult by comparing 5 classes:"
   ]
  },
  {
   "cell_type": "code",
   "execution_count": 45,
   "metadata": {},
   "outputs": [],
   "source": [
    "# load the data\n",
    "book = np.load(\"data/book.npy\")\n",
    "basket = np.load(\"data/basket.npy\")"
   ]
  },
  {
   "cell_type": "markdown",
   "metadata": {},
   "source": [
    "The data preprocessing is similar as in the case for 2 classes:"
   ]
  },
  {
   "cell_type": "code",
   "execution_count": null,
   "metadata": {},
   "outputs": [],
   "source": [
    "# add a column with labels\n",
    "book = np.c_[book, np.full((len(book)),2.)]\n",
    "basket = np.c_[basket, np.full((len(basket)),3.)]"
   ]
  },
  {
   "cell_type": "markdown",
   "metadata": {},
   "source": [
    "Create the matrices for scikit-learn (5'000 images per class):"
   ]
  },
  {
   "cell_type": "code",
   "execution_count": 47,
   "metadata": {},
   "outputs": [],
   "source": [
    "X = np.concatenate((cat[:5000,:-1], sheep[:5000,:-1], book[:5000,:-1], basket[:5000,:-1]),\n",
    "                    axis=0).astype('float32') # all columns but the last\n",
    "y = np.concatenate((cat[:5000,-1], sheep[:5000,-1], book[:5000,-1], basket[:5000,-1]),\n",
    "                   axis=0).astype('float32') # the last column\n",
    "\n",
    "X_train, X_test, y_train, y_test = train_test_split(X/255.,y,test_size=0.5,random_state=0)"
   ]
  },
  {
   "cell_type": "markdown",
   "metadata": {},
   "source": [
    "Use different scikit-learn algorithms to make predictions:"
   ]
  },
  {
   "cell_type": "code",
   "execution_count": 48,
   "metadata": {},
   "outputs": [
    {
     "name": "stdout",
     "output_type": "stream",
     "text": [
      "random forest accuracy:  0.79104\n",
      "Wall time: 8.7 s\n"
     ]
    }
   ],
   "source": [
    "%%time\n",
    "\n",
    "clf_rf = RandomForestClassifier(n_estimators=100, n_jobs=-1, random_state=0)\n",
    "clf_rf.fit(X_train, y_train)\n",
    "y_pred_rf = clf_rf.predict(X_test)\n",
    "acc_rf = accuracy_score(y_test, y_pred_rf)\n",
    "print ('random forest accuracy: ',acc_rf)"
   ]
  },
  {
   "cell_type": "code",
   "execution_count": 49,
   "metadata": {},
   "outputs": [
    {
     "name": "stdout",
     "output_type": "stream",
     "text": [
      "KNN accuracy:  0.8236\n",
      "Wall time: 1min 40s\n"
     ]
    }
   ],
   "source": [
    "%%time \n",
    "\n",
    "clf_knn = KNeighborsClassifier(n_jobs=-1)\n",
    "clf_knn.fit(X_train, y_train)\n",
    "y_pred_knn = clf_knn.predict(X_test)\n",
    "acc_knn = accuracy_score(y_test, y_pred_knn)\n",
    "print ('KNN accuracy: ',acc_knn)"
   ]
  },
  {
   "cell_type": "markdown",
   "metadata": {
    "collapsed": true
   },
   "source": [
    "Preprocessing for Keras:"
   ]
  },
  {
   "cell_type": "code",
   "execution_count": 51,
   "metadata": {
    "collapsed": true
   },
   "outputs": [],
   "source": [
    "# one hot encode outputs\n",
    "y_train_cnn = np_utils.to_categorical(y_train)\n",
    "y_test_cnn = np_utils.to_categorical(y_test)\n",
    "num_classes = y_test_cnn.shape[1]"
   ]
  },
  {
   "cell_type": "code",
   "execution_count": 52,
   "metadata": {
    "collapsed": true
   },
   "outputs": [],
   "source": [
    "# reshape to be [samples][pixels][width][height]\n",
    "X_train_cnn = X_train.reshape(X_train.shape[0], 1, 28, 28).astype('float32')\n",
    "X_test_cnn = X_test.reshape(X_test.shape[0], 1, 28, 28).astype('float32')"
   ]
  },
  {
   "cell_type": "code",
   "execution_count": 53,
   "metadata": {},
   "outputs": [
    {
     "name": "stdout",
     "output_type": "stream",
     "text": [
      "Train on 12500 samples, validate on 12500 samples\n",
      "Epoch 1/10\n",
      "12500/12500 [==============================] - 66s - loss: 1.0823 - acc: 0.5662 - val_loss: 0.6821 - val_acc: 0.7490\n",
      "Epoch 2/10\n",
      "12500/12500 [==============================] - 72s - loss: 0.6352 - acc: 0.7742 - val_loss: 0.5268 - val_acc: 0.8140\n",
      "Epoch 3/10\n",
      "12500/12500 [==============================] - 66s - loss: 0.5167 - acc: 0.8202 - val_loss: 0.4372 - val_acc: 0.8524\n",
      "Epoch 4/10\n",
      "12500/12500 [==============================] - 62s - loss: 0.4612 - acc: 0.8410 - val_loss: 0.3947 - val_acc: 0.8688\n",
      "Epoch 5/10\n",
      "12500/12500 [==============================] - 60s - loss: 0.4161 - acc: 0.8576 - val_loss: 0.3731 - val_acc: 0.8786\n",
      "Epoch 6/10\n",
      "12500/12500 [==============================] - 60s - loss: 0.3812 - acc: 0.8710 - val_loss: 0.3428 - val_acc: 0.8908\n",
      "Epoch 7/10\n",
      "12500/12500 [==============================] - 60s - loss: 0.3585 - acc: 0.8773 - val_loss: 0.3245 - val_acc: 0.8968\n",
      "Epoch 8/10\n",
      "12500/12500 [==============================] - 60s - loss: 0.3421 - acc: 0.8842 - val_loss: 0.3159 - val_acc: 0.8985\n",
      "Epoch 9/10\n",
      "12500/12500 [==============================] - 60s - loss: 0.3216 - acc: 0.8925 - val_loss: 0.3240 - val_acc: 0.8960\n",
      "Epoch 10/10\n",
      "12500/12500 [==============================] - 60s - loss: 0.3023 - acc: 0.8985 - val_loss: 0.2982 - val_acc: 0.9029\n",
      "Final CNN accuracy:  0.90288\n",
      "Wall time: 10min 53s\n"
     ]
    }
   ],
   "source": [
    "%%time\n",
    "\n",
    "# build the model\n",
    "model = cnn_model()\n",
    "# Fit the model\n",
    "model.fit(X_train_cnn, y_train_cnn, validation_data=(X_test_cnn, y_test_cnn), epochs=10, batch_size=200)\n",
    "# Final evaluation of the model\n",
    "scores = model.evaluate(X_test_cnn, y_test_cnn, verbose=0)\n",
    "print('Final CNN accuracy: ', scores[1])"
   ]
  },
  {
   "cell_type": "markdown",
   "metadata": {},
   "source": [
    "Again, the CNN with Keras performed best."
   ]
  },
  {
   "cell_type": "markdown",
   "metadata": {},
   "source": [
    "It seems that there is still some room for improvement. Notably, I have used just about 2% of the pictures for training. By increasing that number, big increases in accuracy would certainly be possible."
   ]
  }
 ],
 "metadata": {
  "anaconda-cloud": {},
  "kernelspec": {
   "display_name": "Python 2",
   "language": "python",
   "name": "python2"
  },
  "language_info": {
   "codemirror_mode": {
    "name": "ipython",
    "version": 2
   },
   "file_extension": ".py",
   "mimetype": "text/x-python",
   "name": "python",
   "nbconvert_exporter": "python",
   "pygments_lexer": "ipython2",
   "version": "2.7.12"
  }
 },
 "nbformat": 4,
 "nbformat_minor": 1
}
