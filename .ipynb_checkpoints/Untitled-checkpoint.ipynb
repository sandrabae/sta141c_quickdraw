{
 "cells": [
  {
   "cell_type": "code",
   "execution_count": 8,
   "metadata": {},
   "outputs": [],
   "source": [
    "\n",
    "import numpy as np\n",
    "import time\n",
    "\n",
    "from sklearn.neighbors import KNeighborsClassifier\n",
    "from sklearn.metrics import accuracy_score\n",
    "from sklearn.model_selection import train_test_split\n",
    "from sklearn.model_selection import train_test_split, GridSearchCV\n"
   ]
  },
  {
   "cell_type": "code",
   "execution_count": 2,
   "metadata": {},
   "outputs": [],
   "source": [
    "#load the data\n",
    "cat = np.load(\"data/cat.npy\")\n",
    "sheep = np.load(\"data/sheep.npy\")\n",
    "book = np.load(\"data/book.npy\")\n",
    "basket = np.load(\"data/basket.npy\")\n"
   ]
  },
  {
   "cell_type": "code",
   "execution_count": 3,
   "metadata": {},
   "outputs": [],
   "source": [
    "# add a column with labels, 0=cat, 1=sheep, 2=book, 3=basket\n",
    "cat = np.c_[cat, np.zeros(len(cat))]\n",
    "sheep = np.c_[sheep, np.ones(len(sheep))]\n",
    "book = np.c_[book, np.full((len(book)),2.)]\n",
    "basket = np.c_[basket, np.full((len(basket)),3.)]"
   ]
  },
  {
   "cell_type": "code",
   "execution_count": 4,
   "metadata": {},
   "outputs": [],
   "source": [
    "# Create the matrices for scikit-learn (5'000 cat and sheep images each):\n",
    "# merge the cat and sheep arrays, and split the features (X) and labels (y). Convert to float32 to save some memory.\n",
    "X = np.concatenate((cat[:5000,:-1], sheep[:5000,:-1], book[:5000,:-1], basket[:5000,:-1]),\n",
    "                    axis=0).astype('float32') # all columns but the last\n",
    "y = np.concatenate((cat[:5000,-1], sheep[:5000,-1], book[:5000,-1], basket[:5000,-1]),\n",
    "                   axis=0).astype('float32') # the last column"
   ]
  },
  {
   "cell_type": "code",
   "execution_count": 5,
   "metadata": {},
   "outputs": [],
   "source": [
    "X_train, X_test, y_train, y_test = train_test_split(X,y,test_size=0.5,random_state=0, shuffle=True)"
   ]
  },
  {
   "cell_type": "code",
   "execution_count": 11,
   "metadata": {},
   "outputs": [],
   "source": [
    "# merge the cat and sheep arrays, and split the features (X) and labels (y). Convert to float32 to save some memory.\n",
    "X1 = np.concatenate((cat[:5000,:-1], sheep[:5000,:-1]), axis=0).astype('float32') # all columns but the last\n",
    "y1 = np.concatenate((cat[:5000,-1], sheep[:5000,-1]), axis=0).astype('float32') # the last column\n",
    "\n",
    "# train/test split (divide by 255 to obtain normalized values between 0 and 1)\n",
    "# I will use a 50:50 split, since I want to start by training the models on 5'000 samples and thus have plenty of samples to spare for testing.\n",
    "X1_train, X1_test, y1_train, y1_test = train_test_split(X1/255.,y1,test_size=0.5,random_state=0)"
   ]
  },
  {
   "cell_type": "code",
   "execution_count": 19,
   "metadata": {},
   "outputs": [
    {
     "name": "stdout",
     "output_type": "stream",
     "text": [
      "KNeighborsClassifier(algorithm='auto', leaf_size=30, metric='minkowski',\n",
      "           metric_params=None, n_jobs=-1, n_neighbors=5, p=2,\n",
      "           weights='uniform')\n",
      "KNN accuracy:  0.9218\n",
      "Seconds: 14.054967164993286\n"
     ]
    }
   ],
   "source": [
    "start_time = time.time()\n",
    "clf_knn = KNeighborsClassifier(n_jobs=-1)\n",
    "clf_knn.fit(X1_train, y1_train)\n",
    "print(clf_knn)\n",
    "y_pred_knn = clf_knn.predict(X1_test)\n",
    "acc_knn = accuracy_score(y1_test, y_pred_knn)\n",
    "print ('KNN accuracy: ',acc_knn)\n",
    "end = time.time()\n",
    "print(\"Seconds:\" , end - start_time)"
   ]
  },
  {
   "cell_type": "code",
   "execution_count": null,
   "metadata": {},
   "outputs": [
    {
     "name": "stdout",
     "output_type": "stream",
     "text": [
      "1 :\n",
      "With a four category dataset, the K-Nearest Neighbors"
     ]
    }
   ],
   "source": [
    "for i in [1, 3, 5, 7 ,9, 11]:\n",
    "    start = time.time()\n",
    "    neigh = KNeighborsClassifier(n_neighbors=i)\n",
    "    neigh.fit(X_train, y_train)\n",
    "\n",
    "    print(i, \":\")\n",
    "    \n",
    "    print(\"With a four category dataset, the K-Nearest Neighbors\",end=\"\")\n",
    "    print(\" algorithm can classify images at\", neigh.score(X_test, y_test)*100, end=\"\")\n",
    "    print(\"% accuracy in\", time.time()-start, \"seconds.\\n\")"
   ]
  },
  {
   "cell_type": "code",
   "execution_count": null,
   "metadata": {},
   "outputs": [],
   "source": []
  }
 ],
 "metadata": {
  "kernelspec": {
   "display_name": "Python 3",
   "language": "python",
   "name": "python3"
  },
  "language_info": {
   "codemirror_mode": {
    "name": "ipython",
    "version": 3
   },
   "file_extension": ".py",
   "mimetype": "text/x-python",
   "name": "python",
   "nbconvert_exporter": "python",
   "pygments_lexer": "ipython3",
   "version": "3.6.5"
  }
 },
 "nbformat": 4,
 "nbformat_minor": 2
}
